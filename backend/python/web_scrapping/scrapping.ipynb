{
 "cells": [
  {
   "cell_type": "markdown",
   "metadata": {},
   "source": [
    "# Web Scrapping\n",
    "The main goal of web scrapping is to recolect and extract data from a web page using only python code and some libraries like requests and beautiful soup. \n",
    "\n",
    "## Code to introduce the topic"
   ]
  },
  {
   "cell_type": "code",
   "execution_count": null,
   "metadata": {},
   "outputs": [],
   "source": [
    "from bs4 import BeautifulSoup\n",
    "import requests as req\n",
    "\n",
    "page = req.get(\"https://www.example.com\").text # Get the html as text \n",
    "\n",
    "soup = BeautifulSoup(page, \"html.parser\") # Instantiate the BeautifulSoup object\n",
    "\n",
    "article_titles = soup.find_all(\"h1\") # Finds all the h1 tags as a python list \n",
    "\n",
    "for article in article_titles:\n",
    "    names = article_titles.content[0]\n",
    "    fullLink = article_titles.get(\"href\")\n",
    "    print(f\"{names} : {fullLink}\")\n",
    "\n",
    "\n",
    "\n"
   ]
  },
  {
   "cell_type": "markdown",
   "metadata": {},
   "source": [
    "# Web Scrapping Example"
   ]
  },
  {
   "cell_type": "code",
   "execution_count": null,
   "metadata": {},
   "outputs": [
    {
     "name": "stdout",
     "output_type": "stream",
     "text": [
      "1. Latest News\n",
      "2. Most Popular\n",
      "3. Storylines\n",
      "4. Upcoming Events\n",
      "5. Startups\n",
      "6. 2025 could be the year of Samsung’s Ballie\n",
      "7. AI\n",
      "8. Security\n",
      "9. Venture\n",
      "10. Apps\n",
      "11. Transportation\n",
      "12. In Brief\n",
      "13. Podcasts\n"
     ]
    }
   ],
   "source": [
    "import requests\n",
    "from bs4 import BeautifulSoup\n",
    "\n",
    "url = \"https://techcrunch.com\"\n",
    "\n",
    "response = requests.get(url)\n",
    "\n",
    "if response.status_code == 200:\n",
    "    soup = BeautifulSoup(response.text, \"html.parser\")\n",
    "\n",
    "    articles = soup.find_all(\"h2\")\n",
    "\n",
    "    for idx, article in enumerate(articles, start=1):\n",
    "        print(f\"{idx}. {article.get_text(strip=True)}\")\n",
    "else:\n",
    "    print(\"Timeout connecting.\")\n"
   ]
  }
 ],
 "metadata": {
  "kernelspec": {
   "display_name": "Python 3",
   "language": "python",
   "name": "python3"
  },
  "language_info": {
   "codemirror_mode": {
    "name": "ipython",
    "version": 3
   },
   "file_extension": ".py",
   "mimetype": "text/x-python",
   "name": "python",
   "nbconvert_exporter": "python",
   "pygments_lexer": "ipython3",
   "version": "3.11.9"
  }
 },
 "nbformat": 4,
 "nbformat_minor": 2
}
