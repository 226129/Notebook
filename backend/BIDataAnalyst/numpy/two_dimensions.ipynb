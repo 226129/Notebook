{
 "cells": [
  {
   "cell_type": "markdown",
   "metadata": {},
   "source": [
    "# Basic Creation "
   ]
  },
  {
   "cell_type": "code",
   "execution_count": 1,
   "metadata": {},
   "outputs": [
    {
     "data": {
      "text/plain": [
       "array([[1, 2, 3],\n",
       "       [4, 5, 6],\n",
       "       [7, 8, 9]])"
      ]
     },
     "execution_count": 1,
     "metadata": {},
     "output_type": "execute_result"
    }
   ],
   "source": [
    "import numpy as np\n",
    "\n",
    "a = [[1, 2, 3], [4, 5, 6], [7, 8, 9]]\n",
    "A = np.array(a)\n",
    "A"
   ]
  },
  {
   "cell_type": "markdown",
   "metadata": {},
   "source": [
    "# Common operations"
   ]
  },
  {
   "cell_type": "code",
   "execution_count": null,
   "metadata": {},
   "outputs": [],
   "source": [
    "# Creating a 2D array\n",
    "a = [[1, 2, 3], [4, 5, 6], [7, 8, 9]]\n",
    "A = np.array(a)\n",
    "\n",
    "# Accessing elements\n",
    "element = A[1, 2]  # Access element at row 1, column 2\n",
    "\n",
    "# Slicing\n",
    "row = A[1, :]  # Access the entire second row\n",
    "column = A[:, 1]  # Access the entire second column\n",
    "\n",
    "# Basic operations\n",
    "sum_all = np.sum(A)  # Sum of all elements\n",
    "sum_axis0 = np.sum(A, axis=0)  # Sum of elements along columns\n",
    "sum_axis1 = np.sum(A, axis=1)  # Sum of elements along rows\n",
    "\n",
    "# Transpose\n",
    "A_transpose = A.T\n",
    "\n",
    "# Reshape\n",
    "A_reshaped = A.reshape(1, 9)  # Reshape to 1 row and 9 columns\n",
    "\n",
    "# Flatten\n",
    "A_flattened = A.flatten()  # Flatten the array to 1D\n",
    "\n",
    "# Matrix multiplication\n",
    "B = np.array([[1, 0, 0], [0, 1, 0], [0, 0, 1]])\n",
    "C = np.dot(A, B)  # Matrix multiplication of A and B\n",
    "\n",
    "# Element-wise operations\n",
    "A_squared = A ** 2  # Square of each element\n",
    "\n",
    "# Boolean indexing\n",
    "A_greater_than_5 = A[A > 5]  # Elements greater than 5\n",
    "\n",
    "# Print all results\n",
    "print(\"Original array:\\n\", A)\n",
    "print(\"Element at row 1, column 2:\", element)\n",
    "print(\"Second row:\", row)\n",
    "print(\"Second column:\", column)\n",
    "print(\"Sum of all elements:\", sum_all)\n",
    "print(\"Sum along columns:\", sum_axis0)\n",
    "print(\"Sum along rows:\", sum_axis1)\n",
    "print(\"Transposed array:\\n\", A_transpose)\n",
    "print(\"Reshaped array:\\n\", A_reshaped)\n",
    "print(\"Flattened array:\", A_flattened)\n",
    "print(\"Matrix multiplication result:\\n\", C)\n",
    "print(\"Element-wise squared array:\\n\", A_squared)\n",
    "print(\"Elements greater than 5:\", A_greater_than_5)"
   ]
  },
  {
   "cell_type": "code",
   "execution_count": 4,
   "metadata": {},
   "outputs": [
    {
     "name": "stdout",
     "output_type": "stream",
     "text": [
      "[[2 2]\n",
      " [2 2]]\n"
     ]
    }
   ],
   "source": [
    "X=np.array([[1,0],[0,1]])\n",
    "\n",
    "Y=np.array([[2,2],[2,2]]) \n",
    "\n",
    "Z=np.dot(X,Y) \n",
    "print(Z)"
   ]
  }
 ],
 "metadata": {
  "kernelspec": {
   "display_name": "Python 3",
   "language": "python",
   "name": "python3"
  },
  "language_info": {
   "codemirror_mode": {
    "name": "ipython",
    "version": 3
   },
   "file_extension": ".py",
   "mimetype": "text/x-python",
   "name": "python",
   "nbconvert_exporter": "python",
   "pygments_lexer": "ipython3",
   "version": "3.11.9"
  }
 },
 "nbformat": 4,
 "nbformat_minor": 2
}
