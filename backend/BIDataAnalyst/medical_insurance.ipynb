{
 "cells": [
  {
   "cell_type": "markdown",
   "metadata": {},
   "source": [
    "# Purpose of this section\n",
    "The purpose of this practice is to understand about dictionaries , list comprehension to dictionaries and using a dictonary to create a database\n",
    "\n",
    "## Dictionary declaration and manipulation\n",
    "We will create an empty dictionary and update it with some values"
   ]
  },
  {
   "cell_type": "code",
   "execution_count": null,
   "metadata": {},
   "outputs": [],
   "source": [
    "# Records will be saved here.\n",
    "medical_costs = {}\n",
    "\n",
    "# Update dictionaries with one line of code\n",
    "medical_costs.update(\n",
    "  {\n",
    "    \"Marina\": 6607.0,\n",
    "    \"Vinay\": 3225.0,\n",
    "    \"Connie\": 8886.0,\n",
    "    \"Isaac\": 16444.0,\n",
    "    \"Valentina\": 6420,\n",
    "  }\n",
    ")\n",
    "\n",
    "# Update single values \n",
    "medical_costs[\"Vinat\"] = 3325.0"
   ]
  },
  {
   "cell_type": "markdown",
   "metadata": {},
   "source": [
    "## Looping through data \n",
    "Once we have a very small data population in our dictionary we can loop through it to do some calculations "
   ]
  },
  {
   "cell_type": "code",
   "execution_count": null,
   "metadata": {},
   "outputs": [],
   "source": [
    "# Average medical cost / Iterate through values\n",
    "total_cost = 0\n",
    "for value in medical_costs.values():\n",
    "  total_cost += value\n",
    "\n",
    "average_cost = total_cost / len(medical_costs)\n",
    "print(f\"Average Insurance Cost: {average_cost}\")"
   ]
  },
  {
   "cell_type": "markdown",
   "metadata": {},
   "source": [
    "## List comprehension to dictionaries\n",
    "We can create other dictionaries by maping two lists "
   ]
  },
  {
   "cell_type": "code",
   "execution_count": null,
   "metadata": {},
   "outputs": [],
   "source": [
    "# Lists declarations \n",
    "names = ['Marina', 'Vinay', 'Connie', 'Isaac', 'Valentina']\n",
    "ages = [27, 24, 43, 35, 52]\n",
    "\n",
    "# Usage of zip() function\n",
    "zipped_ages = zip(names, ages)\n",
    "\n",
    "# Dictionary comprehension\n",
    "names_to_ages = {key: value for key, value in zipped_ages}\n",
    "print(names_to_ages)\n",
    "\n",
    "# Get specific value from dictionary and setting a default value if doesn't exist\n",
    "marina_age = names_to_ages.get(\"Marina\", None)\n",
    "print(f\"Marina's age is {marina_age}\")"
   ]
  },
  {
   "cell_type": "markdown",
   "metadata": {},
   "source": [
    "## Using a dictionary to create a small database\n",
    "We can use the data from dictionaries to generate another dictionary that acts as a database"
   ]
  },
  {
   "cell_type": "code",
   "execution_count": null,
   "metadata": {},
   "outputs": [],
   "source": [
    "# Empty dictionary\n",
    "medical_records = {}\n",
    "\n",
    "# Update dictionary with multiple values\n",
    "medical_records.update(\n",
    "  {\n",
    "    \"Marina\": {\n",
    "      \"Age\": 27, \n",
    "      \"Sex\": \"Female\", \n",
    "      \"BMI\": 31.1, \n",
    "      \"Children\": 2, \n",
    "      \"Smoker\": \"Non-smoker\", \n",
    "      \"Insurance_cost\": 6607.0,\n",
    "    },\n",
    "    \"Vinay\": {\n",
    "      \"Age\": 24,\n",
    "      \"Sex\": \"Male\",\n",
    "      \"BMI\": 26.9,\n",
    "      \"Children\": 0,\n",
    "      \"Smoker\": \"Non-smoker\",\n",
    "      \"Insurance_cost\": 3225.0,\n",
    "    },\n",
    "    \"Connie\": {\n",
    "      \"Age\": 43,\n",
    "      \"Sex\": \"Female\",\n",
    "      \"BMI\": 25.3,\n",
    "      \"Children\": 3,\n",
    "      \"Smoker\": \"Non-smoker\",\n",
    "      \"Insurance_cost\": 8886.0,\n",
    "    },\n",
    "    \"Isaac\": {\n",
    "      \"Age\": 35,\n",
    "      \"Sex\": \"Male\",\n",
    "      \"BMI\": 20.6,\n",
    "      \"Children\": 4,\n",
    "      \"Smoker\": \"Smoker\",\n",
    "      \"Insurance_cost\": 16444.0,\n",
    "    },\n",
    "    \"Valentina\": {\n",
    "      \"Age\": 52,\n",
    "      \"Sex\": \"Female\",\n",
    "      \"BMI\": 18.7,\n",
    "      \"Children\": 1,\n",
    "      \"Smoker\": \"Non-smoker\",\n",
    "      \"Insurance_cost\": 6420.0,\n",
    "    }\n",
    "  }\n",
    ")\n",
    "\n",
    "# Accsessing specific value from dictionary\n",
    "print(f\"Connie's insurance cost is {medical_records['Connie']['Insurance_cost']}\")\n",
    "\n",
    "# Removing a key-value pair from dictionary\n",
    "medical_records.pop(\"Vinay\")\n",
    "\n",
    "# Looping through all the records\n",
    "for name, record in medical_records.items():\n",
    "    print(name + \" is a \" + str(record[\"Age\"]) + \\\n",
    "    \" year old \" + record[\"Sex\"] + \" \" + record[\"Smoker\"] \\\n",
    "    + \" with a BMI of \" + str(record[\"BMI\"]) + \\\n",
    "    \" and insurance cost of \" + str(record[\"Insurance_cost\"]))"
   ]
  }
 ],
 "metadata": {
  "language_info": {
   "name": "python"
  }
 },
 "nbformat": 4,
 "nbformat_minor": 2
}
