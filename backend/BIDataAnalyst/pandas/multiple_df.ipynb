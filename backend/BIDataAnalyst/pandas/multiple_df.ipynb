{
 "cells": [
  {
   "cell_type": "markdown",
   "metadata": {},
   "source": [
    "# Multiple dataframes\n",
    "We can combine multiple dataframes that have the data distributed between tables."
   ]
  },
  {
   "cell_type": "markdown",
   "metadata": {},
   "source": [
    "# Example\n",
    "Suppose we have three dataframes, one for the **orders** that represent each transaction, other for the **products** that represents all the products with their id's, description and prices, and finally the **customers** which is a table that holds the customers information."
   ]
  },
  {
   "cell_type": "markdown",
   "metadata": {},
   "source": [
    "The `.merge()` method looks for columns that are common between two DataFrames and then looks for rows where those column's values are the same."
   ]
  },
  {
   "cell_type": "code",
   "execution_count": 1,
   "metadata": {},
   "outputs": [
    {
     "name": "stdout",
     "output_type": "stream",
     "text": [
      "   order_id  customer_id  product_id  quantity description  price   name  \\\n",
      "0         1            1         101         1   Product 1   10.0  Alice   \n",
      "1         2            2         102         2   Product 2   20.0    Bob   \n",
      "2         3            1         103         1   Product 3   30.0  Alice   \n",
      "\n",
      "               email  \n",
      "0  alice@example.com  \n",
      "1    bob@example.com  \n",
      "2  alice@example.com  \n"
     ]
    }
   ],
   "source": [
    "import pandas as pd\n",
    "\n",
    "# Sample data for orders\n",
    "orders = pd.DataFrame({\n",
    "    'order_id': [1, 2, 3],\n",
    "    'customer_id': [1, 2, 1],\n",
    "    'product_id': [101, 102, 103],\n",
    "    'quantity': [1, 2, 1]\n",
    "})\n",
    "\n",
    "# Sample data for products\n",
    "products = pd.DataFrame({\n",
    "    'product_id': [101, 102, 103],\n",
    "    'description': ['Product 1', 'Product 2', 'Product 3'],\n",
    "    'price': [10.0, 20.0, 30.0]\n",
    "})\n",
    "\n",
    "# Sample data for customers\n",
    "customers = pd.DataFrame({\n",
    "    'customer_id': [1, 2],\n",
    "    'name': ['Alice', 'Bob'],\n",
    "    'email': ['alice@example.com', 'bob@example.com']\n",
    "})\n",
    "\n",
    "# Merge orders with products\n",
    "orders_products = pd.merge(orders, products, on='product_id')\n",
    "\n",
    "# Merge the result with customers\n",
    "full_data = pd.merge(orders_products, customers, on='customer_id')\n",
    "\n",
    "print(full_data)"
   ]
  },
  {
   "cell_type": "markdown",
   "metadata": {},
   "source": [
    "# Compare data in the merged df\n",
    "We can specify the conditional inside the brackets"
   ]
  },
  {
   "cell_type": "code",
   "execution_count": 3,
   "metadata": {},
   "outputs": [
    {
     "name": "stdout",
     "output_type": "stream",
     "text": [
      "   order_id  customer_id  product_id  quantity description  price   name  \\\n",
      "2         3            1         103         1   Product 3   30.0  Alice   \n",
      "\n",
      "               email  \n",
      "2  alice@example.com  \n"
     ]
    }
   ],
   "source": [
    "bigger_than_20 = full_data[full_data['price'] > 20]\n",
    "print(bigger_than_20)"
   ]
  }
 ],
 "metadata": {
  "kernelspec": {
   "display_name": "Python 3",
   "language": "python",
   "name": "python3"
  },
  "language_info": {
   "codemirror_mode": {
    "name": "ipython",
    "version": 3
   },
   "file_extension": ".py",
   "mimetype": "text/x-python",
   "name": "python",
   "nbconvert_exporter": "python",
   "pygments_lexer": "ipython3",
   "version": "3.11.9"
  }
 },
 "nbformat": 4,
 "nbformat_minor": 2
}
