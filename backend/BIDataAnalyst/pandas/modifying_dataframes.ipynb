{
 "cells": [
  {
   "cell_type": "markdown",
   "metadata": {},
   "source": [
    "# Adding a Column to a DataFrame I \n",
    "Sometimes, we want to add a column to an existing DataFrame. One way that we can add a new column is by giving a list of the same length as the existing DataFrame. "
   ]
  },
  {
   "cell_type": "code",
   "execution_count": 1,
   "metadata": {},
   "outputs": [
    {
     "name": "stdout",
     "output_type": "stream",
     "text": [
      "   Product ID   Description  Cost to Manufacture  Price Sold in Bulk?\n",
      "0           1  3 inch screw                  0.5   0.75           Yes\n",
      "1           2   2 inch nail                  0.1   0.25           Yes\n",
      "2           3        hammer                  3.0   5.50            No\n",
      "3           4   screwdriver                  2.5   3.00            No\n"
     ]
    }
   ],
   "source": [
    "import pandas as pd\n",
    "\n",
    "df = pd.DataFrame([\n",
    "  [1, '3 inch screw', 0.5, 0.75],\n",
    "  [2, '2 inch nail', 0.10, 0.25],\n",
    "  [3, 'hammer', 3.00, 5.50],\n",
    "  [4, 'screwdriver', 2.50, 3.00]\n",
    "],\n",
    "  columns=['Product ID', 'Description', 'Cost to Manufacture', 'Price']\n",
    ")\n",
    "\n",
    "# Add columns here\n",
    "df['Sold in Bulk?'] = [\"Yes\", \"Yes\", \"No\", \"No\"]\n",
    "\n",
    "print(df)"
   ]
  },
  {
   "cell_type": "markdown",
   "metadata": {},
   "source": [
    "# Adding a Column to a DataFrame II\n",
    "We can also add a new column that is the same for all rows in the DataFrame. "
   ]
  },
  {
   "cell_type": "code",
   "execution_count": 2,
   "metadata": {},
   "outputs": [
    {
     "name": "stdout",
     "output_type": "stream",
     "text": [
      "   Product ID   Description  Cost to Manufacture  Price Sold in Bulk?  \\\n",
      "0           1  3 inch screw                  0.5   0.75           Yes   \n",
      "1           2   2 inch nail                  0.1   0.25           Yes   \n",
      "2           3        hammer                  3.0   5.50            No   \n",
      "3           4   screwdriver                  2.5   3.00            No   \n",
      "\n",
      "  Is taxed?  \n",
      "0       Yes  \n",
      "1       Yes  \n",
      "2       Yes  \n",
      "3       Yes  \n"
     ]
    }
   ],
   "source": [
    "df['Is taxed?'] = \"Yes\"\n",
    "\n",
    "print(df)"
   ]
  },
  {
   "cell_type": "markdown",
   "metadata": {},
   "source": [
    "# Adding a Column to a DataFrame III\n",
    "You can add a column to a table performing an operation on another column. For example if we want to calculate a tax on a column named price we can use this method in order to accomplish this. "
   ]
  },
  {
   "cell_type": "code",
   "execution_count": 3,
   "metadata": {},
   "outputs": [
    {
     "name": "stdout",
     "output_type": "stream",
     "text": [
      "   Product ID   Description  Cost to Manufacture  Price Sold in Bulk?  \\\n",
      "0           1  3 inch screw                  0.5   0.75           Yes   \n",
      "1           2   2 inch nail                  0.1   0.25           Yes   \n",
      "2           3        hammer                  3.0   5.50            No   \n",
      "3           4   screwdriver                  2.5   3.00            No   \n",
      "\n",
      "  Is taxed?  Margin  \n",
      "0       Yes    0.25  \n",
      "1       Yes    0.15  \n",
      "2       Yes    2.50  \n",
      "3       Yes    0.50  \n"
     ]
    }
   ],
   "source": [
    "df['Margin'] = df['Price'] - df['Cost to Manufacture']\n",
    "print(df)"
   ]
  },
  {
   "cell_type": "markdown",
   "metadata": {},
   "source": [
    "# Performing Column Operations\n",
    "When we want to modify a specific column based on an operation, we could use the apply function to apply a function to every value in a particular column."
   ]
  },
  {
   "cell_type": "code",
   "execution_count": 7,
   "metadata": {},
   "outputs": [
    {
     "name": "stdout",
     "output_type": "stream",
     "text": [
      "   Product ID   Description  Cost to Manufacture  Price Sold in Bulk?  \\\n",
      "0           1  3 inch screw                  0.5   0.75           Yes   \n",
      "1           2   2 inch nail                  0.1   0.25           Yes   \n",
      "2           3        hammer                  3.0   5.50            No   \n",
      "3           4   screwdriver                  2.5   3.00            No   \n",
      "\n",
      "  Is taxed?  Margin Lowercase Name Lowercase Description  \n",
      "0       Yes    0.25   3 inch screw          3 inch screw  \n",
      "1       Yes    0.15    2 inch nail           2 inch nail  \n",
      "2       Yes    2.50         hammer                hammer  \n",
      "3       Yes    0.50    screwdriver           screwdriver  \n"
     ]
    }
   ],
   "source": [
    "df['Lowercase Description'] = df.Description.apply(str.lower)\n",
    "\n",
    "print(df)"
   ]
  },
  {
   "cell_type": "markdown",
   "metadata": {},
   "source": [
    "# Applying a Lambda to a Column\n",
    "In order to apply a lambda function to a column, we can use the same syntax of .apply but inside it will receive the lambda function. "
   ]
  },
  {
   "cell_type": "code",
   "execution_count": 6,
   "metadata": {},
   "outputs": [
    {
     "name": "stdout",
     "output_type": "stream",
     "text": [
      "   Product ID   Description  Cost to Manufacture  Price               name  \\\n",
      "0           1  3 inch screw                  0.5   0.75      Lauren Durham   \n",
      "1           2   2 inch nail                  0.1   0.25          Grant Liu   \n",
      "2           3        hammer                  3.0   5.50  Shirley Rasmussen   \n",
      "3           4   screwdriver                  2.5   3.00      Brodie Walker   \n",
      "\n",
      "   last_name  \n",
      "0     Durham  \n",
      "1        Liu  \n",
      "2  Rasmussen  \n",
      "3     Walker  \n"
     ]
    }
   ],
   "source": [
    "# Get the user's last name and add it as a column\n",
    "import pandas as pd\n",
    " \n",
    "df = pd.DataFrame([\n",
    "  [1, '3 inch screw', 0.5, 0.75, \"Lauren Durham\"],\n",
    "  [2, '2 inch nail', 0.10, 0.25, \"Grant Liu\"],\n",
    "  [3, 'hammer', 3.00, 5.50, \"Shirley Rasmussen\"],\n",
    "  [4, 'screwdriver', 2.50, 3.00, \"Brodie Walker\"]\n",
    "],\n",
    "  columns=['Product ID', 'Description', 'Cost to Manufacture', 'Price', \"name\"]\n",
    ")\n",
    "\n",
    "\n",
    "get_last_name = lambda name: name.split()[-1]\n",
    "\n",
    "df['last_name'] = df.name.apply(\n",
    "    get_last_name\n",
    ")\n",
    "\n",
    "print(df)\n"
   ]
  },
  {
   "cell_type": "markdown",
   "metadata": {},
   "source": [
    "# Applying a Lambda to a Row \n",
    "We can also operate on multiple columns at one. If we use apply without specifying a single column and add the argument axis=1, the input to our lambda function will be an entire row, not a column. \n",
    "\n",
    "To access a particular values of the row, we use the syntax row.column_name or row['column_name']"
   ]
  },
  {
   "cell_type": "code",
   "execution_count": null,
   "metadata": {},
   "outputs": [],
   "source": [
    "# Suppose we have a row calles is taxed? and we want to multiply Price by 1.075 if the row is Yes\n",
    "total_earned = lambda row: (row.hourly_wage * 40) + ((row.hourly_wage * 1.5) * (row.hours_worked - 40)) \\\n",
    "\tif row.hours_worked > 40 \\\n",
    "  else row.hourly_wage * row.hours_worked\n",
    "  \n",
    "df['total_earned'] = df.apply(total_earned, axis = 1)\n",
    "\n",
    "print(df)"
   ]
  },
  {
   "cell_type": "markdown",
   "metadata": {},
   "source": [
    "# Renaming Columns \n",
    "You can change all of the column names at once by setting the .columns property to a different list. Just by using `df.columns['Col1', 'Col2']`"
   ]
  },
  {
   "cell_type": "code",
   "execution_count": 12,
   "metadata": {},
   "outputs": [
    {
     "name": "stdout",
     "output_type": "stream",
     "text": [
      "  First Name  Age\n",
      "0       John   23\n",
      "1       Jane   29\n",
      "2        Sue   21\n",
      "3       Fred   18\n"
     ]
    }
   ],
   "source": [
    "df = pd.DataFrame({\n",
    "    'name': ['John', 'Jane', 'Sue', 'Fred'],\n",
    "    'age': [23, 29, 21, 18]\n",
    "})\n",
    "df.columns = ['First Name', 'Age']\n",
    "\n",
    "print(df)"
   ]
  },
  {
   "cell_type": "markdown",
   "metadata": {},
   "source": [
    "# Renaming Columns II\n",
    "You can also rename individual columns by using the `.rename` method. Pass a dictionary like the one below to the columns keyword argument: \n",
    "\n",
    "```python\n",
    "{'old_column_name1': 'new_column_name1', 'old_column_name2': 'new_column_name2'}\n",
    "```"
   ]
  },
  {
   "cell_type": "code",
   "execution_count": 15,
   "metadata": {},
   "outputs": [],
   "source": [
    "# Rename individual columns using .rename()\n",
    "df.rename(columns={\n",
    "    \"First Name\": \"The first name\",\n",
    "    \"Age\": \"The age\",\n",
    "})\n",
    "\n",
    "# We can use inplace=True to modify the original DataFrame\n",
    "df.rename(columns={\n",
    "    \"First Name\": \"The first name\",\n",
    "    \"Age\": \"The age\",\n",
    "}, inplace=True)"
   ]
  },
  {
   "cell_type": "markdown",
   "metadata": {},
   "source": [
    "# Conclusion code"
   ]
  },
  {
   "cell_type": "code",
   "execution_count": null,
   "metadata": {},
   "outputs": [],
   "source": [
    "orders = pd.DataFrame({\n",
    "    'order_id': [1, 2, 3, 4],\n",
    "})\n",
    "orders['shoe_source'] = orders.shoe_material.apply(\n",
    "  lambda mat: \"vegan\" if mat != \"leather\" else \"animal\"\n",
    ")\n",
    "\n",
    "orders['salutation'] = orders.apply(lambda row: \\\n",
    "                                    'Dear Mr. ' + row['last_name']\n",
    "                                    if row['gender'] == 'male'\n",
    "                                    else 'Dear Ms. ' + row['last_name'],\n",
    "                                    axis=1)"
   ]
  }
 ],
 "metadata": {
  "kernelspec": {
   "display_name": "Python 3",
   "language": "python",
   "name": "python3"
  },
  "language_info": {
   "codemirror_mode": {
    "name": "ipython",
    "version": 3
   },
   "file_extension": ".py",
   "mimetype": "text/x-python",
   "name": "python",
   "nbconvert_exporter": "python",
   "pygments_lexer": "ipython3",
   "version": "3.11.9"
  }
 },
 "nbformat": 4,
 "nbformat_minor": 2
}
