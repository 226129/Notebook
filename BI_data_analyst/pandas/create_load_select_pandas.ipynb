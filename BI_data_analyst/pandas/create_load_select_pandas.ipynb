{
 "cells": [
  {
   "cell_type": "markdown",
   "metadata": {},
   "source": [
    "# Create a DataFrame I \n",
    "A DataFrame is an object that stores data as rows and columns. You can think of a DataFrame as a spreadsheet or as a SQL table. You can manually create a DataFrame or fill it with data from a CSV, an Excel spreadsheet, or a SQL query.\n",
    "\n",
    "You can pass in a dictionary to pd.DataFrame(). Each key is a column name and each value is a list of column values. The columns must all be the same length or you will get an error. Here’s an example:"
   ]
  },
  {
   "cell_type": "code",
   "execution_count": 2,
   "metadata": {},
   "outputs": [
    {
     "name": "stdout",
     "output_type": "stream",
     "text": [
      "         name         address  age\n",
      "0  John Smith    123 Main St.   28\n",
      "1    Jane Doe  456 Maple Ave.   24\n",
      "2   Joe Schmo    789 Broadway   19\n"
     ]
    }
   ],
   "source": [
    "import pandas as pd\n",
    "\n",
    "df1 = pd.DataFrame(\n",
    "    {\n",
    "        'name': ['John Smith', \"Jane Doe\", 'Joe Schmo'],\n",
    "        'address': ['123 Main St.', '456 Maple Ave.', '789 Broadway'],\n",
    "        'age': [28, 24, 19]\n",
    "    }\n",
    ")\n",
    "\n",
    "print(df1)"
   ]
  },
  {
   "cell_type": "markdown",
   "metadata": {},
   "source": [
    "# Create a DataFrame II\n",
    "You can also add data using lists just having in mind to add a keyword argument called columns that represent the keys if we are trying to compare it with dictionaries. "
   ]
  },
  {
   "cell_type": "code",
   "execution_count": 3,
   "metadata": {},
   "outputs": [
    {
     "name": "stdout",
     "output_type": "stream",
     "text": [
      "         name         address  age\n",
      "0  John Smith    123 Main St.   34\n",
      "1    Jane Doe  456 Maple Ave.   28\n",
      "2   Joe Schmo    789 Broadway   51\n"
     ]
    }
   ],
   "source": [
    "df2 = pd.DataFrame([\n",
    "    ['John Smith', '123 Main St.', 34],\n",
    "    ['Jane Doe', '456 Maple Ave.', 28],\n",
    "    ['Joe Schmo', '789 Broadway', 51]\n",
    "    ],\n",
    "    columns=['name', 'address', 'age'])\n",
    "print(df2)"
   ]
  },
  {
   "cell_type": "markdown",
   "metadata": {},
   "source": [
    "# Comma Separated Values (CSV)\n",
    "CSV (comma separated values) is a text-only spreadsheet format. You can find CSVs in lots of places:\n",
    "\n",
    "- Online datasets\n",
    "- Export from Excel or Google Sheets\n",
    "- Export from SQL\n",
    "\n",
    "The first row of a CSV contains column headings. All subsequent rows contain values. Each column heading and each variable is separated by a comma:\n",
    "\n",
    "```txt\n",
    "column1,column2,column3\n",
    "value1,value2,value3\n",
    "```"
   ]
  },
  {
   "cell_type": "markdown",
   "metadata": {},
   "source": [
    "# Loading and Saving CSVs\n",
    "When we have data in a CSV, we can load it into a DataFrame in Pandas using read_csv()"
   ]
  },
  {
   "cell_type": "code",
   "execution_count": null,
   "metadata": {},
   "outputs": [],
   "source": [
    "pd.read_csv('file.csv')"
   ]
  },
  {
   "cell_type": "markdown",
   "metadata": {},
   "source": [
    "When this method is called. The CSV file called file.csv is passed in as an argument. We can also save data to a CSV using to_csv()"
   ]
  },
  {
   "cell_type": "code",
   "execution_count": null,
   "metadata": {},
   "outputs": [],
   "source": [
    "df = pd.DataFrame()\n",
    "df.to_csv('file.csv')"
   ]
  },
  {
   "cell_type": "markdown",
   "metadata": {},
   "source": [
    "# Inspect a DataFrame \n",
    "When we load a new DataFrame from a CSV, we want to know what it looks like. If it's small we can do it by just printing it, but when it is very large, we use the method `.head()` in order to display the first 5 rows, or passing an argument to display n rows.\n",
    "\n",
    "Another method is `.info()` which gives some statistics for each column. "
   ]
  },
  {
   "cell_type": "code",
   "execution_count": null,
   "metadata": {},
   "outputs": [],
   "source": [
    "df = pd.read_csv('file.csv')\n",
    "\n",
    "print(df.head()) # first 5 rows\n",
    "print(df.head(10)) # first 10 rows\n",
    "print(df.info()) # data types and non-null values"
   ]
  },
  {
   "cell_type": "markdown",
   "metadata": {},
   "source": [
    "# Select Columns \n",
    "Now we know how to create and load data. Let's select parts of those datasets that are interesting or important to our analyses. If we have a specific colmn called customers, maybe we want to take the average or plot a histogram of the ages. In order to do either of these tasks, we need to select the column\n",
    "\n",
    "1. Select the column as if you were selecting value from a dictionary using a key. `customer['age']`\n",
    "2. If the name of a column follows all of the rules for a variable name then you can select it usign the followin notation: `df.MySecondColumn`"
   ]
  },
  {
   "cell_type": "code",
   "execution_count": 7,
   "metadata": {},
   "outputs": [
    {
     "name": "stdout",
     "output_type": "stream",
     "text": [
      "<class 'pandas.core.series.Series'>\n",
      "<class 'pandas.core.frame.DataFrame'>\n"
     ]
    }
   ],
   "source": [
    "df = pd.DataFrame([\n",
    "  ['January', 100, 100, 23, 100],\n",
    "  ['February', 51, 45, 145, 45],\n",
    "  ['March', 81, 96, 65, 96],\n",
    "  ['April', 80, 80, 54, 180],\n",
    "  ['May', 51, 54, 54, 154],\n",
    "  ['June', 112, 109, 79, 129]],\n",
    "  columns=['month', 'clinic_east',\n",
    "           'clinic_north', 'clinic_south',\n",
    "           'clinic_west']\n",
    ")\n",
    "\n",
    "clinic_north = df['clinic_north']\n",
    "print(type(clinic_north)) \n",
    "print(type(df)) "
   ]
  },
  {
   "cell_type": "markdown",
   "metadata": {},
   "source": [
    "# Selecting Multiple Columns \n",
    "When you have a larger DataFrame, you might want to select just a few columns. \n",
    "For instance, a last name and an email. To select two or more columns we would use `new_df = orders[['last_name', 'email']]`"
   ]
  },
  {
   "cell_type": "code",
   "execution_count": null,
   "metadata": {},
   "outputs": [],
   "source": [
    "# Following the example above \n",
    "clinic_north_south = df[['clinic_north', 'clinic_south']]"
   ]
  },
  {
   "cell_type": "markdown",
   "metadata": {},
   "source": [
    "# Select Rows \n",
    "DataFrames are zero-indexed, meaning that we start with the 0th row and count up from there. "
   ]
  },
  {
   "cell_type": "code",
   "execution_count": 8,
   "metadata": {},
   "outputs": [
    {
     "name": "stdout",
     "output_type": "stream",
     "text": [
      "month           March\n",
      "clinic_east        81\n",
      "clinic_north       96\n",
      "clinic_south       65\n",
      "clinic_west        96\n",
      "Name: 2, dtype: object\n"
     ]
    }
   ],
   "source": [
    "# Selecting march from the data frame\n",
    "march = df.iloc[2]\n",
    "print(march)"
   ]
  },
  {
   "cell_type": "markdown",
   "metadata": {},
   "source": [
    "# Selecting Multiple Rows \n",
    "When we cant to select more that one row we can use some methods:\n",
    "1. dataframe.iloc[1:n] this would select all rows starting at the 1th row and up to but not including the n row (i.e. if n equals 9, it would be from 1 to 8)\n",
    "2. dataframe.iloc[:4] this would select all rows up to but not including the 4th row. \n",
    "3. dataframe.iloc[-3:] this would select the rows starting at the 3rd to last row and up to and including the final row"
   ]
  },
  {
   "cell_type": "code",
   "execution_count": 9,
   "metadata": {},
   "outputs": [
    {
     "name": "stdout",
     "output_type": "stream",
     "text": [
      "   month  clinic_east  clinic_north  clinic_south  clinic_west\n",
      "3  April           80            80            54          180\n",
      "4    May           51            54            54          154\n",
      "5   June          112           109            79          129\n"
     ]
    }
   ],
   "source": [
    "april_may_june = df.iloc[3:]\n",
    "print(april_may_june)"
   ]
  },
  {
   "cell_type": "markdown",
   "metadata": {},
   "source": [
    "# Select Rows with Logic I \n",
    "You can select a subset of DataFrame by using logical statements: \n",
    "`df[df.columnName == logic_expected]`. For example if we want to know which customers are under 25 years old, we might use `df[df < 25]`"
   ]
  },
  {
   "cell_type": "code",
   "execution_count": 10,
   "metadata": {},
   "outputs": [
    {
     "name": "stdout",
     "output_type": "stream",
     "text": [
      "     month  clinic_east  clinic_north  clinic_south  clinic_west\n",
      "0  January          100           100            23          100\n"
     ]
    }
   ],
   "source": [
    "january = df[df.month == 'January']\n",
    "print(january)"
   ]
  },
  {
   "cell_type": "markdown",
   "metadata": {},
   "source": [
    "# Select Rows with Logic II \n",
    "We can also combine multiple logical statements, as long as each statement is in parentheses. This using & for conjuntion and | for disyunction. "
   ]
  },
  {
   "cell_type": "code",
   "execution_count": 11,
   "metadata": {},
   "outputs": [
    {
     "name": "stdout",
     "output_type": "stream",
     "text": [
      "   month  clinic_east  clinic_north  clinic_south  clinic_west\n",
      "2  March           81            96            65           96\n",
      "3  April           80            80            54          180\n"
     ]
    }
   ],
   "source": [
    "march_april = df[(df.month == 'March') | (df.month == 'April')]\n",
    "print(march_april)"
   ]
  },
  {
   "cell_type": "markdown",
   "metadata": {},
   "source": [
    "# Select Rows with Logic III\n",
    "Suppose we want to select the rows where some specific data is included in the dataframe. We can use .isin to check if the values are in the rows"
   ]
  },
  {
   "cell_type": "code",
   "execution_count": 12,
   "metadata": {},
   "outputs": [
    {
     "name": "stdout",
     "output_type": "stream",
     "text": [
      "      month  clinic_east  clinic_north  clinic_south  clinic_west\n",
      "0   January          100           100            23          100\n",
      "1  February           51            45           145           45\n",
      "2     March           81            96            65           96\n"
     ]
    }
   ],
   "source": [
    "january_february_march = df[df.month.isin(\n",
    "  ['January', 'February', 'March']\n",
    ")]\n",
    "\n",
    "print(january_february_march)"
   ]
  },
  {
   "cell_type": "markdown",
   "metadata": {},
   "source": [
    "# Setting Indices \n",
    "When we select a subset of a DataFrame using logic, we end up with non-consecutive indices. This is inelegant and makes it hard to use .iloc()\n",
    "\n",
    "We can fix this using the method `.reset_index()`. "
   ]
  },
  {
   "cell_type": "code",
   "execution_count": 13,
   "metadata": {},
   "outputs": [
    {
     "name": "stdout",
     "output_type": "stream",
     "text": [
      "      month  clinic_east  clinic_north  clinic_south  clinic_west\n",
      "1  February           51            45           145           45\n",
      "3     April           80            80            54          180\n",
      "5      June          112           109            79          129\n",
      "   index     month  clinic_east  clinic_north  clinic_south  clinic_west\n",
      "0      1  February           51            45           145           45\n",
      "1      3     April           80            80            54          180\n",
      "2      5      June          112           109            79          129\n",
      "      month  clinic_east  clinic_north  clinic_south  clinic_west\n",
      "0  February           51            45           145           45\n",
      "1     April           80            80            54          180\n",
      "2      June          112           109            79          129\n"
     ]
    }
   ],
   "source": [
    "df2 = df.loc[[1, 3, 5]]\n",
    "\n",
    "print(df2)\n",
    "\n",
    "df3 = df2.reset_index()\n",
    "\n",
    "print(df3)\n",
    "\n",
    "df2.reset_index(inplace = True, drop = True)\n",
    "\n",
    "print(df2)"
   ]
  }
 ],
 "metadata": {
  "kernelspec": {
   "display_name": "Python 3",
   "language": "python",
   "name": "python3"
  },
  "language_info": {
   "codemirror_mode": {
    "name": "ipython",
    "version": 3
   },
   "file_extension": ".py",
   "mimetype": "text/x-python",
   "name": "python",
   "nbconvert_exporter": "python",
   "pygments_lexer": "ipython3",
   "version": "3.11.9"
  }
 },
 "nbformat": 4,
 "nbformat_minor": 2
}
