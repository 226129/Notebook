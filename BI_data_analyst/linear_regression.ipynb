{
 "cells": [
  {
   "cell_type": "markdown",
   "metadata": {},
   "source": [
    "# Linear Regression\n",
    "## Purpose \n",
    "Linear regression is when you have a group of points on a graph, and you find a line that approximately resembles that group of points. A good Linear Regression algorithm minimizes the error, or the distance from each point to the line. A line with the least error is the line that fits the data the best. We call this line of **best fit**.\n",
    "\n",
    "## Formula\n",
    "In this practical case the line we will end up with will have a formula that looks like: \n",
    "\n",
    "```txt\n",
    "y = m * x + b\n",
    "```\n",
    "\n",
    "Where m is the slope of the line and b is the intercept, where the line crosses the y-axis. "
   ]
  },
  {
   "cell_type": "code",
   "execution_count": null,
   "metadata": {},
   "outputs": [],
   "source": [
    "# For the given x, m, and b, return the y value of the line\n",
    "def get_y(m, b, x):\n",
    "    return m*x + b\n",
    "\n",
    "# For the given m, b, and list of points, return the total error\n",
    "def calculate_error(m, b, point):\n",
    "    x_point, y_point = point\n",
    "    y = get_y(m, b, x_point)\n",
    "    return abs(y - y_point)\n",
    "\n",
    "# For a list of points, return all the errors\n",
    "def calculate_all_errors(m, b, points):\n",
    "    total_error = 0\n",
    "    for point in points:\n",
    "        total_error += calculate_error(m, b, point)\n",
    "    return total_error"
   ]
  }
 ],
 "metadata": {
  "language_info": {
   "name": "python"
  }
 },
 "nbformat": 4,
 "nbformat_minor": 2
}
